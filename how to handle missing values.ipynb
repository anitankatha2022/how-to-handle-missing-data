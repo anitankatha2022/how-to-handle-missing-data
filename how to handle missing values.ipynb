{
 "cells": [
  {
   "cell_type": "code",
   "execution_count": 15,
   "id": "effe2834",
   "metadata": {},
   "outputs": [
    {
     "name": "stdout",
     "output_type": "stream",
     "text": [
      "   RoomID  numberofroom  houseSquareMeter         city\n",
      "0      21           3.0             130.0      Nairobi\n",
      "1      44           5.0             140.0      NEwyork\n",
      "2      67           6.0               NaN          NaN\n",
      "3      89           4.0             150.0      Kampala\n",
      "4      10           2.0               NaN      Bevelyn\n",
      "5      12           3.0             125.0  Los Angeles\n",
      "6      14           NaN               NaN       Malibu\n",
      "7      16           6.0             135.0       Tokyo \n",
      "8      18           NaN               NaN          NaN\n"
     ]
    }
   ],
   "source": [
    "import pandas as pd\n",
    "import numpy as np\n",
    "#creating the dataframe\n",
    "house=pd.DataFrame({\n",
    "    'RoomID':[21,44,67,89,10,12,14,16,18],\n",
    "    'numberofroom':[3,5,6,4,2,3,None,6,None],\n",
    "    \"houseSquareMeter\":[130,140,None,150,None,125,None,135,None],\n",
    "    'city': [\"Nairobi\", \"NEwyork\",np.nan, \"Kampala\", \"Bevelyn\",\"Los Angeles\",\"Malibu\",\"Tokyo \",np.nan]})\n",
    "print(house)"
   ]
  },
  {
   "cell_type": "code",
   "execution_count": 16,
   "id": "de5afbff",
   "metadata": {},
   "outputs": [
    {
     "data": {
      "text/plain": [
       "RoomID              0\n",
       "numberofroom        2\n",
       "houseSquareMeter    4\n",
       "city                2\n",
       "dtype: int64"
      ]
     },
     "execution_count": 16,
     "metadata": {},
     "output_type": "execute_result"
    }
   ],
   "source": [
    "#count the number of missing value based on variable\n",
    "house.isnull().sum()"
   ]
  },
  {
   "cell_type": "code",
   "execution_count": 17,
   "id": "3b48dc75",
   "metadata": {},
   "outputs": [
    {
     "name": "stdout",
     "output_type": "stream",
     "text": [
      "   RoomID  numberofroom  houseSquareMeter         city\n",
      "0      21           3.0             130.0      Nairobi\n",
      "1      44           5.0             140.0      NEwyork\n",
      "3      89           4.0             150.0      Kampala\n",
      "5      12           3.0             125.0  Los Angeles\n",
      "7      16           6.0             135.0       Tokyo \n"
     ]
    }
   ],
   "source": [
    "#deletion listwise method\n",
    "house1=house.dropna()\n",
    "print(house1)"
   ]
  },
  {
   "cell_type": "code",
   "execution_count": 18,
   "id": "6851698d",
   "metadata": {},
   "outputs": [
    {
     "name": "stdout",
     "output_type": "stream",
     "text": [
      "   RoomID  numberofroom         city\n",
      "0      21           3.0      Nairobi\n",
      "1      44           5.0      NEwyork\n",
      "2      67           6.0          NaN\n",
      "3      89           4.0      Kampala\n",
      "4      10           2.0      Bevelyn\n",
      "5      12           3.0  Los Angeles\n",
      "6      14           NaN       Malibu\n",
      "7      16           6.0       Tokyo \n",
      "8      18           NaN          NaN\n"
     ]
    }
   ],
   "source": [
    "#deletion of variable method\n",
    "house2=house.drop(columns='houseSquareMeter')\n",
    "print(house2)"
   ]
  },
  {
   "cell_type": "code",
   "execution_count": 19,
   "id": "180d566d",
   "metadata": {},
   "outputs": [
    {
     "name": "stdout",
     "output_type": "stream",
     "text": [
      "   RoomID  numberofroom  houseSquareMeter         city  houseprice\n",
      "0      21           3.0             130.0      Nairobi       20000\n",
      "1      44           5.0             140.0      NEwyork       90000\n",
      "2      67           6.0               NaN          NaN     2891000\n",
      "3      89           4.0             150.0      Kampala     2879450\n",
      "4      10           2.0               NaN      Bevelyn        4500\n",
      "5      12           3.0             125.0  Los Angeles        3400\n",
      "6      14           NaN               NaN       Malibu        1000\n",
      "7      16           6.0             135.0       Tokyo         4550\n",
      "8      18           NaN               NaN          NaN        9900\n"
     ]
    }
   ],
   "source": [
    "#pairwise method\n",
    "#add new column to the pairwise method\n",
    "house['houseprice']=[20000,90000,2891000,2879450,4500,3400,1000,4550,9900]\n",
    "print(house)"
   ]
  },
  {
   "cell_type": "code",
   "execution_count": 20,
   "id": "ab65545a",
   "metadata": {},
   "outputs": [
    {
     "name": "stdout",
     "output_type": "stream",
     "text": [
      "              RoomID  houseprice\n",
      "RoomID      1.000000    0.922396\n",
      "houseprice  0.922396    1.000000\n"
     ]
    }
   ],
   "source": [
    "# Only two variables selected for correlation analysis\n",
    "print(house[['RoomID','houseprice']].dropna().corr())"
   ]
  },
  {
   "cell_type": "code",
   "execution_count": 21,
   "id": "979b1049",
   "metadata": {},
   "outputs": [
    {
     "name": "stdout",
     "output_type": "stream",
     "text": [
      "                  houseSquareMeter  houseprice\n",
      "houseSquareMeter          1.000000    0.825871\n",
      "houseprice                0.825871    1.000000\n"
     ]
    }
   ],
   "source": [
    "print(house[['houseSquareMeter','houseprice']].dropna().corr())"
   ]
  },
  {
   "cell_type": "code",
   "execution_count": 22,
   "id": "c1feb569",
   "metadata": {},
   "outputs": [
    {
     "data": {
      "text/plain": [
       "0    3.0\n",
       "1    5.0\n",
       "2    6.0\n",
       "3    4.0\n",
       "4    2.0\n",
       "5    3.0\n",
       "6    6.0\n",
       "7    6.0\n",
       "8    NaN\n",
       "Name: numberofroom, dtype: float64"
      ]
     },
     "execution_count": 22,
     "metadata": {},
     "output_type": "execute_result"
    }
   ],
   "source": [
    "# Last Observation Carried Forward\n",
    "house.numberofroom.fillna(method='bfill')"
   ]
  },
  {
   "cell_type": "code",
   "execution_count": 23,
   "id": "3fdbde12",
   "metadata": {},
   "outputs": [
    {
     "data": {
      "text/plain": [
       "0    3.0\n",
       "1    5.0\n",
       "2    6.0\n",
       "3    4.0\n",
       "4    2.0\n",
       "5    3.0\n",
       "6    3.0\n",
       "7    6.0\n",
       "8    6.0\n",
       "Name: numberofroom, dtype: float64"
      ]
     },
     "execution_count": 23,
     "metadata": {},
     "output_type": "execute_result"
    }
   ],
   "source": [
    "house.numberofroom.fillna(method='ffill')"
   ]
  },
  {
   "cell_type": "code",
   "execution_count": 24,
   "id": "49ccb12f",
   "metadata": {},
   "outputs": [
    {
     "data": {
      "text/plain": [
       "0    3.0\n",
       "1    5.0\n",
       "2    6.0\n",
       "3    4.0\n",
       "4    2.0\n",
       "5    3.0\n",
       "6     15\n",
       "7    6.0\n",
       "8     15\n",
       "Name: numberofroom, dtype: object"
      ]
     },
     "execution_count": 24,
     "metadata": {},
     "output_type": "execute_result"
    }
   ],
   "source": [
    "house.numberofroom.fillna(value='15')"
   ]
  },
  {
   "cell_type": "code",
   "execution_count": 30,
   "id": "885824bf",
   "metadata": {},
   "outputs": [
    {
     "data": {
      "text/plain": [
       "RoomID                  36.4\n",
       "numberofroom             4.2\n",
       "houseSquareMeter       136.0\n",
       "houseprice          599480.0\n",
       "dtype: float64"
      ]
     },
     "execution_count": 30,
     "metadata": {},
     "output_type": "execute_result"
    }
   ],
   "source": [
    "house3=house.dropna()\n",
    "house4=house3.drop(columns='city')\n",
    "house4.mean()"
   ]
  },
  {
   "cell_type": "code",
   "execution_count": 31,
   "id": "3248b4da",
   "metadata": {},
   "outputs": [
    {
     "name": "stdout",
     "output_type": "stream",
     "text": [
      "0    130.0\n",
      "1    140.0\n",
      "3    150.0\n",
      "5    125.0\n",
      "7    135.0\n",
      "Name: houseSquareMeter, dtype: float64\n"
     ]
    }
   ],
   "source": [
    "house_mean = house4.fillna(house4.mean())\n",
    "print(house_mean.houseSquareMeter)"
   ]
  },
  {
   "cell_type": "code",
   "execution_count": 34,
   "id": "14b146eb",
   "metadata": {},
   "outputs": [
    {
     "name": "stdout",
     "output_type": "stream",
     "text": [
      "0    3.0\n",
      "1    5.0\n",
      "3    4.0\n",
      "5    3.0\n",
      "7    6.0\n",
      "Name: numberofroom, dtype: float64\n"
     ]
    }
   ],
   "source": [
    "# Median\n",
    "print(house4.numberofroom.fillna(house4.numberofroom.median()))"
   ]
  },
  {
   "cell_type": "code",
   "execution_count": 35,
   "id": "c0d1d62a",
   "metadata": {},
   "outputs": [
    {
     "name": "stdout",
     "output_type": "stream",
     "text": [
      "0    3.0\n",
      "1    5.0\n",
      "2    6.0\n",
      "3    4.0\n",
      "4    2.0\n",
      "5    3.0\n",
      "6    6.0\n",
      "7    6.0\n",
      "8    6.0\n",
      "Name: numberofroom, dtype: float64\n"
     ]
    }
   ],
   "source": [
    "\n",
    "# mode\n",
    "print(house.numberofroom.fillna(house.numberofroom.mode()[1]))"
   ]
  },
  {
   "cell_type": "code",
   "execution_count": null,
   "id": "4b98fad1",
   "metadata": {},
   "outputs": [],
   "source": []
  }
 ],
 "metadata": {
  "kernelspec": {
   "display_name": "Python 3 (ipykernel)",
   "language": "python",
   "name": "python3"
  },
  "language_info": {
   "codemirror_mode": {
    "name": "ipython",
    "version": 3
   },
   "file_extension": ".py",
   "mimetype": "text/x-python",
   "name": "python",
   "nbconvert_exporter": "python",
   "pygments_lexer": "ipython3",
   "version": "3.9.12"
  }
 },
 "nbformat": 4,
 "nbformat_minor": 5
}
